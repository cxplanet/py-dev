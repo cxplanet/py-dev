{
 "cells": [
  {
   "cell_type": "markdown",
   "metadata": {},
   "source": [
    "### Dictionaries\n",
    "A dictionary is a data container that uses 'key' and 'value' pairs. Just as a list uses square brackets '[]' to indicate it is a collection of list items, a dictionary uses '{}' to contain a collection of key and value pairs, where the key and value are separated by ':'. Keys are quoted, as are string values, althought a value could be a string, number, etc., anything that is a valid python object.\n",
    "\n",
    "So going back to a Beyonce record, consider the 'I Am... Sasha Fierce' album. You could use a dictionary to more fully describe the album like this: "
   ]
  },
  {
   "cell_type": "code",
   "execution_count": null,
   "metadata": {},
   "outputs": [],
   "source": [
    "# create a python dictionary\n",
    "sascha = { \"title\": \"I Am... Sasha Fierce\", \"year\": 2008, \"length\": \"41:36\", \"label\": \"Columbia\" }\n",
    "# as with a list, you can see its size\n",
    "print (len(sascha))\n",
    "# or maybe more interesting, see the name of all the keys\n",
    "for key in (sascha.keys()):\n",
    "    print(key)\n",
    "# just like a list index, you can change/add to the dictionary like this:\n",
    "sascha[\"genre\"] = \"R/B Pop\"\n",
    "print(sascha)"
   ]
  },
  {
   "cell_type": "markdown",
   "metadata": {},
   "source": [
    "### Importing a python library\n",
    "One of the good things about python is there is a large number of libraries that people have written, that allow you a developer to use for many purposes without writig additional code. Here's an example of using a code library (what is called a 'module' in python) to import a library called 'pprint' to allow us to 'pretty print' dictionaries:"
   ]
  },
  {
   "cell_type": "code",
   "execution_count": null,
   "metadata": {},
   "outputs": [],
   "source": [
    "# use the'import' keyword to bring in the code\n",
    "import pprint\n",
    "# create a new python object to will do the print:\n",
    "pp = pprint.PrettyPrinter()\n",
    "# use the object's pprint command to format the \n",
    "pp.pprint(sascha)"
   ]
  },
  {
   "cell_type": "markdown",
   "metadata": {},
   "source": [
    "### Making a web request\n",
    "For this one, we will import the 'requests' library and grab the contents of the Yahoo home page. This request returns back a dense amount of HTML code, which we wont go into here, just know that this library is well suited for grabbing data from web sites."
   ]
  },
  {
   "cell_type": "code",
   "execution_count": null,
   "metadata": {},
   "outputs": [],
   "source": [
    "import requests\n",
    "resp = requests.get('https://www.yahoo.com')\n",
    "resp.text"
   ]
  },
  {
   "cell_type": "code",
   "execution_count": null,
   "metadata": {},
   "outputs": [],
   "source": []
  }
 ],
 "metadata": {
  "kernelspec": {
   "display_name": "Python 3",
   "language": "python",
   "name": "python3"
  },
  "language_info": {
   "codemirror_mode": {
    "name": "ipython",
    "version": 3
   },
   "file_extension": ".py",
   "mimetype": "text/x-python",
   "name": "python",
   "nbconvert_exporter": "python",
   "pygments_lexer": "ipython3",
   "version": "3.8.2"
  }
 },
 "nbformat": 4,
 "nbformat_minor": 4
}
