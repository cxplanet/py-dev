{
 "cells": [
  {
   "cell_type": "markdown",
   "metadata": {},
   "source": [
    "### Variables, assignments and comparisons\n",
    "Variables are placeholders for referencing things in your code, like the variable used to refer to the list of Beyonce's albums. Assigments to variables are done using the = operator. \n",
    "\n",
    "Comparing variables can be done using the == operator, which results in a boolean value."
   ]
  },
  {
   "cell_type": "code",
   "execution_count": null,
   "metadata": {},
   "outputs": [],
   "source": [
    "first_dog = 'lulu'\n",
    "second_dog = 'zeke'\n",
    "first_dog == second_dog\n",
    "first_dog == 'lulu'"
   ]
  },
  {
   "cell_type": "markdown",
   "metadata": {},
   "source": [
    "### Booleans and None\n",
    "In python, comparisons can be true (True) or false (False). Likewise for the existence of a value - if an object has an empty value, it will also resolve to False, or conversely True if it as a value. The 'value' of an object with no value is None, although strings, which are normally considered objects are *evaluated* to be True or False. Clear as mud. Some examples:"
   ]
  },
  {
   "cell_type": "code",
   "execution_count": null,
   "metadata": {},
   "outputs": [],
   "source": [
    "election_has_ended = True\n",
    "if election_has_ended:\n",
    "    print ('Joe Biden is going to be our 47th president')\n",
    "else:\n",
    "    print ('Still awaiting the outcome of the election')"
   ]
  },
  {
   "cell_type": "code",
   "execution_count": null,
   "metadata": {},
   "outputs": [],
   "source": [
    "# a caveat: an empty value for a string is 'Falsy', meaning you can check \n",
    "# for the existence of an empty string is False, not None\n",
    "my_value = ''\n",
    "print(bool(my_value)) # prints false\n",
    "if my_value:\n",
    "    print('the value is {}'.format(value))\n",
    "else:\n",
    "    print('there is no value')"
   ]
  },
  {
   "cell_type": "code",
   "execution_count": null,
   "metadata": {},
   "outputs": [],
   "source": [
    "# however, this will not evaluate\n",
    "if my_value is None:\n",
    "    print('there is no value')"
   ]
  },
  {
   "cell_type": "code",
   "execution_count": null,
   "metadata": {},
   "outputs": [],
   "source": [
    "# however, this will \n",
    "if not my_value: \n",
    "    print ('No value assigned to the variable')"
   ]
  },
  {
   "cell_type": "markdown",
   "metadata": {},
   "source": [
    "### Other comparisons\n",
    "In addition to the 'not' modifier mentioned above, you can compare variables using operators like `>, =>, <, <=, and !=`\n",
    "\n",
    "Lets figure out the highest value in a list of numbers. Its true that you could sort the the list, and find the last number, but here we will use a variable, and compare it against each item in a list"
   ]
  },
  {
   "cell_type": "code",
   "execution_count": null,
   "metadata": {},
   "outputs": [],
   "source": [
    "numbers = [23, 1, 5, 77, 5, 9, -3, 4, 30, 21, 1999, 10, 12]\n",
    "# create a variable, well assign it to \n",
    "# the first number in the list\n",
    "max_val = numbers[0]\n",
    "# like before iterate through the list\n",
    "for num in numbers:\n",
    "    if num > max_val:\n",
    "        max_val = num\n",
    "print('The max value in the list is {}'.format(max_val))\n"
   ]
  },
  {
   "cell_type": "code",
   "execution_count": null,
   "metadata": {},
   "outputs": [],
   "source": []
  }
 ],
 "metadata": {
  "kernelspec": {
   "display_name": "Python 3",
   "language": "python",
   "name": "python3"
  },
  "language_info": {
   "codemirror_mode": {
    "name": "ipython",
    "version": 3
   },
   "file_extension": ".py",
   "mimetype": "text/x-python",
   "name": "python",
   "nbconvert_exporter": "python",
   "pygments_lexer": "ipython3",
   "version": "3.8.2"
  }
 },
 "nbformat": 4,
 "nbformat_minor": 4
}
