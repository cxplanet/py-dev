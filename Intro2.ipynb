{
 "cells": [
  {
   "cell_type": "markdown",
   "metadata": {},
   "source": [
    "### Assignments and equality\n",
    "Assigments to variables are done using the = operator. Comparing variables uses the == operator, which results in a boolean value"
   ]
  },
  {
   "cell_type": "code",
   "execution_count": 7,
   "metadata": {},
   "outputs": [
    {
     "data": {
      "text/plain": [
       "True"
      ]
     },
     "execution_count": 7,
     "metadata": {},
     "output_type": "execute_result"
    }
   ],
   "source": [
    "first_dog = 'lulu'\n",
    "second_dog = 'zeke'\n",
    "first_dog == second_dog\n",
    "first_dog == 'lulu'"
   ]
  },
  {
   "cell_type": "markdown",
   "metadata": {},
   "source": [
    "### Booleans and None\n",
    "In python, comparisons can be true (True) or false (False). Likewise for the existence of a value - if an object has an empty value, it will also resolve to False, or conversely True if it as a value. The 'value' of an object with no value is None, although strings, which are normally considered objects are *evaluated* to be True or False. Clear as mud. Some examples:"
   ]
  },
  {
   "cell_type": "code",
   "execution_count": 1,
   "metadata": {},
   "outputs": [
    {
     "name": "stdout",
     "output_type": "stream",
     "text": [
      "Joe Biden is going to be our 47th president\n"
     ]
    }
   ],
   "source": [
    "election_has_ended = True\n",
    "if election_has_ended:\n",
    "    print ('Joe Biden is going to be our 47th president')\n",
    "else:\n",
    "    print ('Still awaiting the outcome of the election')"
   ]
  },
  {
   "cell_type": "code",
   "execution_count": 10,
   "metadata": {},
   "outputs": [],
   "source": [
    "my_value = '' # empty value for a string"
   ]
  },
  {
   "cell_type": "code",
   "execution_count": 8,
   "metadata": {},
   "outputs": [
    {
     "data": {
      "text/plain": [
       "True"
      ]
     },
     "execution_count": 8,
     "metadata": {},
     "output_type": "execute_result"
    }
   ],
   "source": [
    "my_value == None "
   ]
  },
  {
   "cell_type": "code",
   "execution_count": null,
   "metadata": {},
   "outputs": [],
   "source": [
    "if not my_value: # this is a common idion in python, using 'not'\n",
    "    print ('No value assigned to the variable')"
   ]
  }
 ],
 "metadata": {
  "kernelspec": {
   "display_name": "Python 3",
   "language": "python",
   "name": "python3"
  },
  "language_info": {
   "codemirror_mode": {
    "name": "ipython",
    "version": 3
   },
   "file_extension": ".py",
   "mimetype": "text/x-python",
   "name": "python",
   "nbconvert_exporter": "python",
   "pygments_lexer": "ipython3",
   "version": "3.6.8"
  }
 },
 "nbformat": 4,
 "nbformat_minor": 4
}
