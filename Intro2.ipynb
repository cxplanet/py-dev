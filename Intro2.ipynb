{
 "cells": [
  {
   "cell_type": "markdown",
   "metadata": {},
   "source": [
    "### Variables, assignments and equality\n",
    "Variables are placeholders for referencing things in your code, like the variable used to refer to the list of Beyonce's albums. Assigments to variables are done using the = operator. \n",
    "\n",
    "Comparing variables can be done using the == operator, which results in a boolean value."
   ]
  },
  {
   "cell_type": "code",
   "execution_count": 7,
   "metadata": {},
   "outputs": [
    {
     "data": {
      "text/plain": [
       "True"
      ]
     },
     "execution_count": 7,
     "metadata": {},
     "output_type": "execute_result"
    }
   ],
   "source": [
    "first_dog = 'lulu'\n",
    "second_dog = 'zeke'\n",
    "first_dog == second_dog\n",
    "first_dog == 'lulu'"
   ]
  },
  {
   "cell_type": "markdown",
   "metadata": {},
   "source": [
    "### Booleans and None\n",
    "In python, comparisons can be true (True) or false (False). Likewise for the existence of a value - if an object has an empty value, it will also resolve to False, or conversely True if it as a value. The 'value' of an object with no value is None, although strings, which are normally considered objects are *evaluated* to be True or False. Clear as mud. Some examples:"
   ]
  },
  {
   "cell_type": "code",
   "execution_count": 1,
   "metadata": {},
   "outputs": [
    {
     "name": "stdout",
     "output_type": "stream",
     "text": [
      "Joe Biden is going to be our 47th president\n"
     ]
    }
   ],
   "source": [
    "election_has_ended = True\n",
    "if election_has_ended:\n",
    "    print ('Joe Biden is going to be our 47th president')\n",
    "else:\n",
    "    print ('Still awaiting the outcome of the election')"
   ]
  },
  {
   "cell_type": "code",
   "execution_count": 13,
   "metadata": {},
   "outputs": [
    {
     "name": "stdout",
     "output_type": "stream",
     "text": [
      "False\n",
      "there is no value\n"
     ]
    }
   ],
   "source": [
    "# a caveat: an empty value for a string is 'Falsy', meaning you can check \n",
    "# for the existence of an empty string is False, not None\n",
    "my_value = ''\n",
    "print(bool(my_value))\n",
    "if my_value:\n",
    "    print('the value is {}'.format(value))\n",
    "else:\n",
    "    print('there is no value')"
   ]
  },
  {
   "cell_type": "code",
   "execution_count": 15,
   "metadata": {},
   "outputs": [],
   "source": [
    "# however, this will not evalate\n",
    "if my_value is None:\n",
    "    print('there is no value')"
   ]
  },
  {
   "cell_type": "code",
   "execution_count": 16,
   "metadata": {},
   "outputs": [
    {
     "name": "stdout",
     "output_type": "stream",
     "text": [
      "No value assigned to the variable\n"
     ]
    }
   ],
   "source": [
    "# however, this will \n",
    "if not my_value: # this is a common idion in python, using 'not'\n",
    "    print ('No value assigned to the variable')"
   ]
  },
  {
   "cell_type": "markdown",
   "metadata": {},
   "source": []
  }
 ],
 "metadata": {
  "kernelspec": {
   "display_name": "Python 3",
   "language": "python",
   "name": "python3"
  },
  "language_info": {
   "codemirror_mode": {
    "name": "ipython",
    "version": 3
   },
   "file_extension": ".py",
   "mimetype": "text/x-python",
   "name": "python",
   "nbconvert_exporter": "python",
   "pygments_lexer": "ipython3",
   "version": "3.8.2"
  }
 },
 "nbformat": 4,
 "nbformat_minor": 4
}
