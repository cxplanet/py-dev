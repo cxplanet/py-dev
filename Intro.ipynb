{
 "cells": [
  {
   "cell_type": "markdown",
   "metadata": {},
   "source": [
    "## Intro to python and notebooks\n",
    "\n",
    "If you look at the toolbar above, you'll see that there is a dropdown that has a couple of choices, ie 'Code', 'Markdown', 'Raw NB Convert, and 'Heading'. As you may guess, if you want to write code, you will select 'Code'. This particular section is using 'Markdown', which allows you to format text for display in a web browser. Double click on this block to see the markdown used. [Markdown Cheatsheet](https://www.markdownguide.org/cheat-sheet/)\n",
    "\n",
    "The notebook is comprised of 'cells', which can be inserted using the `Insert` menu, and deleted/modified using the `Edit` menu. For more about notebook use, read this [tutorial on notebooks](https://www.dataquest.io/blog/jupyter-notebook-tutorial/). You can ignore the intro about using *anaconda*, and head to the section called Creating Your First Notebook. Just for backgound, we're using something called pipenv to run notebooks for this intro, but we'll eventually come around to installing anaconda - it is a great collection of tools for wrangling/exploring data."
   ]
  },
  {
   "cell_type": "markdown",
   "metadata": {},
   "source": [
    "### Writing some python - lists\n",
    "Instead of trying to describe the syntax and containers (built in libraries) of python, we'll point to places on the web to find more info. For now let's look at some code that works with lists, a fundamental data container in python."
   ]
  },
  {
   "cell_type": "code",
   "execution_count": 3,
   "metadata": {},
   "outputs": [
    {
     "name": "stdout",
     "output_type": "stream",
     "text": [
      "dog\n",
      "cat\n",
      "200\n",
      "squirrel\n",
      "21\n",
      "zeke\n",
      "lulu\n",
      "Length of list: 7\n",
      "first item: dog\n",
      "last item: lulu\n",
      "index 1\n",
      "index 2\n",
      "position 2: cat\n",
      "index 3\n",
      "index 4\n",
      "position 4: squirrel\n",
      "index 5\n",
      "index 6\n",
      "position 6: zeke\n",
      "index 7\n",
      "S\n",
      "e\n",
      "a\n",
      "t\n",
      "t\n",
      "l\n",
      "e\n",
      " \n",
      "S\n",
      "o\n",
      "u\n",
      "n\n",
      "d\n",
      "e\n",
      "r\n",
      "s\n"
     ]
    }
   ],
   "source": [
    "# python uses the [] operator to define a list, or collection of things\n",
    "# here we define a list, and assign it to a variable called my_list\n",
    "my_list = ['dog', 'cat', 200, 'squirrel', 21, 'zeke', 'lulu']\n",
    "# go through the list using the 'for' keyword, assigning the current \n",
    "# value in the list to a variable called item. This process is called iteration, \n",
    "# and can be done on any object in python classified as an 'iterable'\n",
    "# note the colon and the indent, that is a key concept of writing blocks\n",
    "# of code in python - it says we want to repeat the code (in this case a print statement)\n",
    "for item in my_list:\n",
    "    print(item)\n",
    "# two things here - we use the len function to determine the legth\n",
    "# of the list, and use the format function of a string object, more on that later:\n",
    "print('Length of list: {}'.format(len(my_list)))\n",
    "\n",
    "# first item in list is at position (index) 0\n",
    "print('first item:', my_list[0]) \n",
    "# instead of getting the len() f the list and subtracting 1, \n",
    "# just count from the back of the list\n",
    "print('last item:', my_list[-1]) \n",
    "\n",
    "# here's a different way, if you needed to keep track of where you are\n",
    "# in the list while iterating, you use the enumerate function\n",
    "for index, item in enumerate(my_list, start=):   # default for start is zero\n",
    "    print('index', index)\n",
    "    if index % 2 == 0:\n",
    "        print('position {}: {}'.format(index, item))\n",
    "    \n",
    "\n",
    "# even strings are iterable:\n",
    "my_team='Seattle Sounders'\n",
    "for item in my_team:\n",
    "    print(item)\n"
   ]
  },
  {
   "cell_type": "markdown",
   "metadata": {},
   "source": [
    "### Resources\n",
    "\n",
    "- [jupyter tutorial](https://www.dataquest.io/blog/jupyter-notebook-tutorial/)\n",
    "- [list tutorial](https://www.tutorialspoint.com/python/python_lists.htm)\n",
    "- [how uteravbles work](https://treyhunner.com/2016/12/python-iterator-protocol-how-for-loops-work/#Iterators_are_also_iterables)\n"
   ]
  },
  {
   "cell_type": "code",
   "execution_count": null,
   "metadata": {},
   "outputs": [],
   "source": []
  }
 ],
 "metadata": {
  "kernelspec": {
   "display_name": "Python 3",
   "language": "python",
   "name": "python3"
  },
  "language_info": {
   "codemirror_mode": {
    "name": "ipython",
    "version": 3
   },
   "file_extension": ".py",
   "mimetype": "text/x-python",
   "name": "python",
   "nbconvert_exporter": "python",
   "pygments_lexer": "ipython3",
   "version": "3.6.8"
  }
 },
 "nbformat": 4,
 "nbformat_minor": 4
}
